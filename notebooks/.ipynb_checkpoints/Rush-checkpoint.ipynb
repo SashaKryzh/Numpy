{
 "cells": [
  {
   "cell_type": "markdown",
   "metadata": {},
   "source": [
    "author: okryzhan vprypesh"
   ]
  },
  {
   "cell_type": "code",
   "execution_count": 1,
   "metadata": {},
   "outputs": [],
   "source": [
    "import numpy as np"
   ]
  },
  {
   "cell_type": "code",
   "execution_count": 2,
   "metadata": {},
   "outputs": [
    {
     "data": {
      "text/plain": [
       "array([[0.13926641, 0.81489776, 0.94602555, 0.73121205, 0.85123056],\n",
       "       [0.26454665, 0.09255896, 0.44147342, 0.30067543, 0.42463939],\n",
       "       [0.41222877, 0.37489396, 0.27247519, 0.37234271, 0.31636004],\n",
       "       [0.80693928, 0.03011817, 0.54663206, 0.9675648 , 0.13536798],\n",
       "       [0.51024258, 0.37748572, 0.70557535, 0.68318905, 0.17185147]])"
      ]
     },
     "execution_count": 2,
     "metadata": {},
     "output_type": "execute_result"
    }
   ],
   "source": [
    "np.random.rand(5, 5)"
   ]
  },
  {
   "cell_type": "code",
   "execution_count": 3,
   "metadata": {},
   "outputs": [
    {
     "data": {
      "text/plain": [
       "array([[ 0,  1,  2],\n",
       "       [ 3,  4,  5],\n",
       "       [ 6,  7,  8],\n",
       "       [ 9, 10, 11]])"
      ]
     },
     "execution_count": 3,
     "metadata": {},
     "output_type": "execute_result"
    }
   ],
   "source": [
    "a = np.arange(12)\n",
    "a.reshape(4, 3)"
   ]
  },
  {
   "cell_type": "code",
   "execution_count": 4,
   "metadata": {},
   "outputs": [
    {
     "data": {
      "text/plain": [
       "(1, 5)"
      ]
     },
     "execution_count": 4,
     "metadata": {},
     "output_type": "execute_result"
    }
   ],
   "source": [
    "def incr_arr(n):\n",
    "        return np.linspace(0, 1, n).reshape(1, n)\n",
    "\n",
    "incr_arr(5).shape                         "
   ]
  },
  {
   "cell_type": "code",
   "execution_count": 5,
   "metadata": {},
   "outputs": [
    {
     "name": "stdout",
     "output_type": "stream",
     "text": [
      "[[0.23862522 0.68242119 0.22516227 0.78892805 0.78111787 0.20890369\n",
      "  0.68429531 0.87638797 0.13635498 0.63936084 0.38706896 0.83433848]\n",
      " [0.53931684 0.54177118 0.00886278 0.62198169 0.70570921 0.28944668\n",
      "  0.17257251 0.79669016 0.78896293 0.03516761 0.15546828 0.04202192]\n",
      " [0.60469259 0.86723529 0.22986266 0.92938362 0.83301779 0.03518721\n",
      "  0.07586182 0.08545852 0.54180455 0.79288995 0.82187536 0.36224968]\n",
      " [0.94264112 0.08314278 0.88138819 0.78374586 0.41924212 0.17306784\n",
      "  0.01516923 0.88072195 0.5441158  0.51178107 0.86072253 0.65798857]\n",
      " [0.18371305 0.90625753 0.34636916 0.77979705 0.21682785 0.85289974\n",
      "  0.67260566 0.82174438 0.97920827 0.57002724 0.68446727 0.70037163]\n",
      " [0.8884822  0.42318001 0.12772504 0.5684292  0.51056792 0.86838369\n",
      "  0.23826953 0.14307364 0.03387753 0.93264825 0.08250254 0.27523837]\n",
      " [0.66120807 0.92163366 0.79862909 0.79602882 0.35891056 0.89707074\n",
      "  0.28628027 0.44678446 0.84869994 0.98716997 0.26034971 0.32312013]\n",
      " [0.75299159 0.01584648 0.28994912 0.71429811 0.18970763 0.96763095\n",
      "  0.36949815 0.61693646 0.86038599 0.32964879 0.29186077 0.35597716]\n",
      " [0.98030789 0.21585047 0.75424827 0.11481297 0.96881526 0.38963988\n",
      "  0.32988901 0.9833007  0.95822391 0.83774588 0.46295502 0.48861101]\n",
      " [0.30860447 0.02029223 0.33779469 0.46003172 0.42558929 0.54647685\n",
      "  0.59341727 0.41692437 0.35854585 0.90808222 0.25894849 0.90610302]]\n",
      "[[0.13635498 0.63936084 0.38706896 0.83433848]\n",
      " [0.78896293 0.03516761 0.15546828 0.04202192]\n",
      " [0.54180455 0.79288995 0.82187536 0.36224968]\n",
      " [0.5441158  0.51178107 0.86072253 0.65798857]\n",
      " [0.97920827 0.57002724 0.68446727 0.70037163]]\n"
     ]
    }
   ],
   "source": [
    "z = np.random.rand(10, 12)\n",
    "print(z)\n",
    "z1 = z[0:5, 8:]\n",
    "print(z1)"
   ]
  },
  {
   "cell_type": "code",
   "execution_count": 6,
   "metadata": {},
   "outputs": [],
   "source": [
    "import matplotlib.pyplot as mp"
   ]
  },
  {
   "cell_type": "code",
   "execution_count": 7,
   "metadata": {},
   "outputs": [
    {
     "name": "stdout",
     "output_type": "stream",
     "text": [
      "(20, 100)\n"
     ]
    },
    {
     "data": {
      "image/png": "[encoded data removed]",
      "text/plain": [
       "<Figure size 432x288 with 1 Axes>"
      ]
     },
     "metadata": {
      "needs_background": "light"
     },
     "output_type": "display_data"
    }
   ],
   "source": [
    "n, m = 100, 20\n",
    "res = incr_arr(n)\n",
    "for i in range(1, m):\n",
    "    res = np.concatenate((res, incr_arr(n)), axis=0)\n",
    "mp.imshow(res)\n",
    "print(res.shape)"
   ]
  },
  {
   "cell_type": "code",
   "execution_count": 8,
   "metadata": {},
   "outputs": [
    {
     "data": {
      "text/plain": [
       "<matplotlib.image.AxesImage at 0x7fec06ff5828>"
      ]
     },
     "execution_count": 8,
     "metadata": {},
     "output_type": "execute_result"
    },
    {
     "data": {
      "image/png": "[encoded data removed]",
      "text/plain": [
       "<Figure size 432x288 with 1 Axes>"
      ]
     },
     "metadata": {
      "needs_background": "light"
     },
     "output_type": "display_data"
    }
   ],
   "source": [
    "def rand_arr(n):\n",
    "    return np.random.rand(n).reshape(1, n)\n",
    "\n",
    "matrix = rand_arr(m)\n",
    "for i in range(1, n):\n",
    "    matrix = np.concatenate((matrix, rand_arr(m)), axis=0)\n",
    "mult = res @ matrix\n",
    "mp.imshow(mult)"
   ]
  }
 ],
 "metadata": {
  "kernelspec": {
   "display_name": "Python 3",
   "language": "python",
   "name": "python3"
  },
  "language_info": {
   "codemirror_mode": {
    "name": "ipython",
    "version": 3
   },
   "file_extension": ".py",
   "mimetype": "text/x-python",
   "name": "python",
   "nbconvert_exporter": "python",
   "pygments_lexer": "ipython3",
   "version": "3.6.3"
  }
 },
 "nbformat": 4,
 "nbformat_minor": 2
}
